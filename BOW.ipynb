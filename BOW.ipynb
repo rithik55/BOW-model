{
 "cells": [
  {
   "cell_type": "markdown",
   "metadata": {
    "id": "uKnpA3Jl7MxE"
   },
   "source": [
    "## Overview\n",
    "\n",
    "We are going to practice converting raw (string form) text into a useful data set using the script of *Pirates of the Caribbean: The Curse of the Black Pearl* (2003), the first in a series of PotC movies starring Johnny Depp. The script is part of the `webtext` corpus in NLTK.\n",
    "\n",
    "Under the assumption that we wish to perform an analysis of the words spoken by the characters in the movie, we will convert the text in a series of steps from a raw string of ASCII characters into a dictionary holding a sparse BOW model of the words spoken by two of the main characters, Elizabeth Swann and Jack Sparrow. These dictionaries could be the data set for a classification task, or for creating a vector-space model for each character, which we will study later in the course. For this assignment, you will clean  up, normalize and tokenize the text, create the dictionaries, and then simply print out the most common words spoken by the\n",
    "two characters.\n",
    "\n",
    "Text normalization was covered in lecture on Tuesday 9/12 and the BOW model on Thursday 9/14. Before beginning the assignment, you should\n",
    "consult the following for information on using the Python regular expression library:\n",
    "\n",
    "https://docs.python.org/3/library/re.html\n",
    "\n",
    "Also useful is\n",
    "\n",
    "https://docs.python.org/3/howto/regex.html\n",
    "\n",
    "After reviewing the basic principles of regular expressions (which I will review in my walk-through video), read about the following useful functions:\n",
    "\n",
    "    result = re.split(...)\n",
    "    \n",
    "    result = re.sub(...)\n",
    "    \n",
    "You may ONLY use standard functions from the `re` library for this homework,   and you must\n",
    "perform your normalization starting with the string form of the script assigned below to the variable `pirates_txt`. You may NOT use indices of the string to perform your modifications (e.g., deleting the first line by counting how many characters to remove).\n",
    "\n",
    "The point here is to use regular expressions to do the text wrangling. Don't worry,\n",
    "we shall use the `SpaCy` library later on the course to normalize text for a classification problem set."
   ]
  },
  {
   "cell_type": "code",
   "execution_count": 119,
   "metadata": {
    "colab": {
     "base_uri": "https://localhost:8080/"
    },
    "id": "yPfcHqR77MxE",
    "outputId": "290bb47d-5967-4bfd-97ec-18d80776284f"
   },
   "outputs": [
    {
     "name": "stderr",
     "output_type": "stream",
     "text": [
      "[nltk_data] Downloading package webtext to /root/nltk_data...\n",
      "[nltk_data]   Package webtext is already up-to-date!\n"
     ]
    }
   ],
   "source": [
    "import numpy as np\n",
    "import nltk\n",
    "import re\n",
    "\n",
    "# The first time you will need to download the corpus:\n",
    "\n",
    "nltk.download('webtext')\n",
    "\n",
    "pirates_txt = nltk.corpus.webtext.raw('pirates.txt')"
   ]
  },
  {
   "cell_type": "code",
   "execution_count": 120,
   "metadata": {
    "colab": {
     "base_uri": "https://localhost:8080/",
     "height": 122
    },
    "id": "8G3rN-cB7MxG",
    "outputId": "8f8ace98-cd19-4fb3-9da9-377f66964876",
    "scrolled": true
   },
   "outputs": [
    {
     "data": {
      "application/vnd.google.colaboratory.intrinsic+json": {
       "type": "string"
      },
      "text/plain": [
       "\"PIRATES OF THE CARRIBEAN: DEAD MAN'S CHEST, by Ted Elliott & Terry Rossio\\n[view looking straight down at rolling swells, sound of wind and thunder, then a low heartbeat]\\nScene: PORT ROYAL\\n[teacups on a table in the rain]\\n[sheet music on music stands in the rain]\\n[bouquet of white orchids, Elizabeth sitting in the rain holding the bouquet]\\n[men rowing, men on horseback, to the sound of thunder]\\n[EITC logo on flag blowing in the wind]\\n[many rowboats are entering the harbor]\\n[Elizabeth sitting alone, at a distance]\\n[marines running, kick a door in] \\n[a mule is seen on the left in the barn where the marines enter]\\n[Liz looking over her shoulder]\\n[Elizabeth drops her bouquet]\\n[Will is in manacles, being escorted by red coats]\\nELIZABETH SWANN: Will...!\\n[Elizabeth runs to Will]\\nELIZABETH SWANN: Why is this happening? \\nWILL TURNER: I don't know. You look beautiful.\\nELIZABETH SWANN: I think it's bad luck for the groom to see the bride before the wedding.\\n[marines cross their long axes to bar Go\""
      ]
     },
     "execution_count": 120,
     "metadata": {},
     "output_type": "execute_result"
    }
   ],
   "source": [
    "# raw string form\n",
    "pirates_txt[:1000]"
   ]
  },
  {
   "cell_type": "code",
   "execution_count": 121,
   "metadata": {
    "colab": {
     "base_uri": "https://localhost:8080/"
    },
    "id": "bV-jHWTH7MxG",
    "outputId": "6333fa60-46d0-4848-ad6b-431eba349c4a",
    "scrolled": false
   },
   "outputs": [
    {
     "name": "stdout",
     "output_type": "stream",
     "text": [
      "PIRATES OF THE CARRIBEAN: DEAD MAN'S CHEST, by Ted Elliott & Terry Rossio\n",
      "[view looking straight down at rolling swells, sound of wind and thunder, then a low heartbeat]\n",
      "Scene: PORT ROYAL\n",
      "[teacups on a table in the rain]\n",
      "[sheet music on music stands in the rain]\n",
      "[bouquet of white orchids, Elizabeth sitting in the rain holding the bouquet]\n",
      "[men rowing, men on horseback, to the sound of thunder]\n",
      "[EITC logo on flag blowing in the wind]\n",
      "[many rowboats are entering the harbor]\n",
      "[Elizabeth sitting alone, at a distance]\n",
      "[marines running, kick a door in] \n",
      "[a mule is seen on the left in the barn where the marines enter]\n",
      "[Liz looking over her shoulder]\n",
      "[Elizabeth drops her bouquet]\n",
      "[Will is in manacles, being escorted by red coats]\n",
      "ELIZABETH SWANN: Will...!\n",
      "[Elizabeth runs to Will]\n",
      "ELIZABETH SWANN: Why is this happening? \n",
      "WILL TURNER: I don't know. You look beautiful.\n",
      "ELIZABETH SWANN: I think it's bad luck for the groom to see the bride before the wedding.\n",
      "[marines cross their long axes to bar Go\n"
     ]
    }
   ],
   "source": [
    "# printing it shows the formatting\n",
    "print(pirates_txt[:1000])"
   ]
  },
  {
   "cell_type": "markdown",
   "metadata": {
    "id": "HF33Ydsi7MxH"
   },
   "source": [
    "## Cleaning up the lines\n",
    "\n",
    "The first task is to clean up the text so that at the conclusion of\n",
    "this problem, you will have a text with punctuation and extraneous\n",
    "characters removed, and each line consisting of a character's name\n",
    "(human or otherwise), a colon, and a sequence of words, ending in a newline.  \n",
    "(You will keep this as a single string until Problem 3, but we will\n",
    "refer to the \"lines\" spoken by each character -- also, I hope it\n",
    "will not be confusing to speak of (ASCII) characters and characters played\n",
    "by the actors in the script!)\n",
    "\n",
    "\n",
    "### Part 1.A \n",
    "\n",
    "1. Convert the string into all lower-case letters.\n",
    "\n",
    "2. Remove the first line which gives the title and authors. Print out the first 200 characters to show that you have done this.\n",
    "\n",
    "Hint:  Cut everything before the first '\\n', using the 'beginning of string' special character `^` in the regular expression."
   ]
  },
  {
   "cell_type": "code",
   "execution_count": 122,
   "metadata": {
    "colab": {
     "base_uri": "https://localhost:8080/"
    },
    "id": "_5hjGjl17MxH",
    "outputId": "f4ab5a3d-4a53-4863-8e31-d8a095d69406",
    "scrolled": false
   },
   "outputs": [
    {
     "name": "stdout",
     "output_type": "stream",
     "text": [
      "[view looking straight down at rolling swells, sound of wind and thunder, then a low heartbeat]\n",
      "Scene: PORT ROYAL\n",
      "[teacups on a table in the rain]\n",
      "[sheet music on music stands in the rain]\n",
      "[bouquet of\n"
     ]
    }
   ],
   "source": [
    "#pirates_txt_lower = pirates_txt.lower() done later in part where punctuations are filtered out\n",
    "pirates_txt = re.sub('^.+\\n', '', pirates_txt )\n",
    "print(pirates_txt[:200])"
   ]
  },
  {
   "cell_type": "markdown",
   "metadata": {
    "id": "DOqX7xoQ7MxH"
   },
   "source": [
    "### Part 1.B\n",
    "\n",
    "Cut out all the stage directions that are given in square brackets, including the newlines on those lines.  Print out the first 200 characters as proof.  "
   ]
  },
  {
   "cell_type": "code",
   "execution_count": 123,
   "metadata": {
    "colab": {
     "base_uri": "https://localhost:8080/"
    },
    "id": "B14ys4M17MxH",
    "outputId": "e4117e0d-595c-47be-cf02-1d2cb3f4b6a2",
    "scrolled": false
   },
   "outputs": [
    {
     "name": "stdout",
     "output_type": "stream",
     "text": [
      "Scene: PORT ROYAL\n",
      "ELIZABETH SWANN: Will...!\n",
      "ELIZABETH SWANN: Why is this happening? \n",
      "WILL TURNER: I don't know. You look beautiful.\n",
      "ELIZABETH SWANN: I think it's bad luck for the groom to see the brid\n"
     ]
    }
   ],
   "source": [
    "pirates_txt = re.sub('\\[.*\\]*.*?\\n', '', pirates_txt )\n",
    "print(pirates_txt[:200])"
   ]
  },
  {
   "cell_type": "markdown",
   "metadata": {
    "id": "U3CfaMLh7MxH"
   },
   "source": [
    "### Part 1.C \n",
    "\n",
    "Cut out the lines where the 'scene' is specified.  Again, print out the first 200 characters."
   ]
  },
  {
   "cell_type": "code",
   "execution_count": 124,
   "metadata": {
    "colab": {
     "base_uri": "https://localhost:8080/"
    },
    "id": "Oj8RyI-97MxH",
    "outputId": "9dd986fb-041d-4759-e6d5-81f13a0c4274",
    "scrolled": false
   },
   "outputs": [
    {
     "name": "stdout",
     "output_type": "stream",
     "text": [
      "ELIZABETH SWANN: Will...!\n",
      "ELIZABETH SWANN: Why is this happening? \n",
      "WILL TURNER: I don't know. You look beautiful.\n",
      "ELIZABETH SWANN: I think it's bad luck for the groom to see the bride before the weddi\n"
     ]
    }
   ],
   "source": [
    "pirates_txt = re.sub('Scene:.*\\n', '', pirates_txt )\n",
    "print(pirates_txt[:200])"
   ]
  },
  {
   "cell_type": "markdown",
   "metadata": {
    "id": "LNawCKRY7MxH"
   },
   "source": [
    "### Part 1.D \n",
    "\n",
    "Now, we still have a lot of punctuation and some miscellaneous odd things occurring in this text, and we need to\n",
    "do further cleaning. But you will have to figure this out for yourself!\n",
    "\n",
    "The main thing to do is to remove punctuation and anything that does not\n",
    "contribute to the goal of making a BOW model for our two characters.\n",
    "\n",
    "But you can't just remove all non-word characters! Make sure you take account of the following:\n",
    "\n",
    "1. You need to keep the character's names at the beginning of the line, so\n",
    "**do not remove the colon after the name** (note that these always occur at the beginning\n",
    "of a line, i.e., at the very beginning or immediately after the newline from the previous line).\n",
    "\n",
    "2. In the next problem we will normalize the words, so **we DON'T want to change\n",
    "anything that might be a word,** such as,\n",
    "\n",
    "           charges    don't     it's    'er   ah-ha      ha-ha-ha-ha-ha     stealin'   \n",
    "     \n",
    "3. After observing the caveats above, **remove all punctuation.**\n",
    "\n",
    "\n",
    "4. There are some places where apparently the transcriber was not sure what the word\n",
    "was and gave alternatives:\n",
    "\n",
    "            weren't/wasn't\n",
    "    \n",
    "    and some places where it is not clear what is intended:\n",
    "\n",
    "            oy /quick\n",
    "            \n",
    "Just treat `/` like ordinary punctuation and replace it by a blank.\n",
    "    \n",
    "5. Finally, there are miscellanous weird things in the text, such as\n",
    "\n",
    "        ###         ?:    \n",
    "        \n",
    "   (and possibly others) which **should be removed.**\n",
    "\n",
    "**How to proceed:** To explore the data, print out the text after the modifications in Parts 1.A -- 1.D:\n",
    "\n",
    "    print(pirates_txt_01)\n",
    "\n",
    "and think about what needs to be removed, paying careful attention to the comments above. (You could use the `Find` function in your browser to flip through various possibilities.)\n",
    "\n",
    "After examining the text, **comment out the `print(pirates_txt_01)` so that we don't\n",
    "have to look at it!** This was just for exploration!\n",
    "\n",
    "The result of your cleaning in this part should be assigned to `pirates_txt_01`.\n",
    "\n",
    "Hint: At this stage, it might be better to **replace substrings with blanks** instead\n",
    "of deleting them (replacing with the empty string) to preserve the separation\n",
    "of words (just in case!).  "
   ]
  },
  {
   "cell_type": "markdown",
   "metadata": {
    "id": "N8YVFhso7MxI"
   },
   "source": [
    "#### Part 1.D.1\n",
    "\n",
    "Write a short description here of what you removed, giving your reasoning. You must\n",
    "account for at least what is listed above, but you may find other things you\n",
    "want to change.\n",
    "\n",
    "\n",
    "1. Initially in 1.B, I discovered that there can be words after the '[...]', hence I removed any letters and \\n's after the brackets.\n",
    "\n",
    "2. First, we need to remove the colons as they don't have meaning in between words and has prevennted us from converting the text to lower case. since our characters will have 'NAME: ' format we filtered the ':'s out by keeping the ':'s that they follow the pattern '(CHAR): ' and removing the rest of the colons. After this step we convert the entire text to lower case.\n",
    "\n",
    "3. In 1.D, I first removed out all the special characters that would not have any meaning if placed between alphabets, such as *, / and replaced them with a space ' '.\n",
    "\n",
    "4. periods were not present in between letters and hence could be eliminated the same way as above. Ex: Dr., Ph.D.\n",
    "\n",
    "5. The symbols that could have meaning between words are - & ' ,  hence these symbols could be filtered out by negative lookbehind and negative lookahead.\n",
    "\n",
    "\n",
    "\n",
    "Also print out some portion of the text to show at least some of the changes you have made."
   ]
  },
  {
   "cell_type": "markdown",
   "metadata": {
    "id": "flQQfrs97MxI"
   },
   "source": [
    "#### Part 1.D.2 \n",
    "\n",
    "Write your code in the following cell. The result at the end should\n",
    "be stored in `pirates_txt_01`.  Print out the first 2000 characters."
   ]
  },
  {
   "cell_type": "code",
   "execution_count": 125,
   "metadata": {
    "colab": {
     "base_uri": "https://localhost:8080/"
    },
    "id": "jlH9D0nV7MxI",
    "outputId": "fe7e55bc-434e-4497-dba0-41d6849ae502",
    "scrolled": false
   },
   "outputs": [
    {
     "name": "stdout",
     "output_type": "stream",
     "text": [
      "elizabeth swann: will \n",
      "elizabeth swann: why is this happening  \n",
      "will turner: i don't know  you look beautiful \n",
      "elizabeth swann: i think it's bad luck for the groom to see the bride before the wedding \n",
      "lord cutler beckett: governor weatherby swann  it's been too long \n",
      "lord cutler beckett: his lord now  actually \n",
      "lord cutler beckett: in fact  i  do  mister mercer  the warrant for the arrest of one william turner \n",
      "lord cutler beckett: oh  is it  that's annoying  my mistake  arrest her \n",
      "elizabeth swann: on what charges \n",
      "will turner: no \n",
      "lord cutler beckett: ah-ha  here's the one for william turner  and i have another one for a mister james norrington  is he present \n",
      "elizabeth swann:  what are the charges \n",
      "lord cutler beckett: i don't believe that's the answer to the question i asked \n",
      "will turner: lord beckett  in the category of questions  not  answered \n",
      "elizabeth swann: we are under the jurisdiction of the king's governor of port royal  and you will tell us what we are charged with  \n",
      "lord cutler beckett: for which the punishment  regrettably  is  also  death  perhaps you remember a certain pirate named jack sparrow \n",
      "elizabeth swann:  captain  jack sparrow \n",
      "lord cutler beckett: captain jack sparrow  yes  i thought you might \n",
      "gibbs: fifteen men on a dead man's chest  yo ho ho  and a  bottle  of rum  drink and the devil had done for the rest  yo ho ho  and a  bottle  of rum  ha-ha-ha-ha-ha  \n",
      "jack sparrow: sorry  mate \n",
      "jack sparrow: mind if we make a little side trip  i didn't think so \n",
      "gibbs: not  quite  according to plan \n",
      "jack sparrow: complications arose  ensued  were overcome \n",
      "gibbs: you got what you went in for  then \n",
      "jack sparrow: mm-hmm \n",
      "gibbs: captain  i think the crew  meaning me as well  were expecting something a bit more   shiny  what with the isla de muerta going all pear shaped  reclaimed by the sea  and the treasure with it  \n",
      "leech: and the royal navy chasing us all around the atlantic  \n",
      "marty: and the hurricane  aye \n",
      "crew: aye  aye \n",
      "gibbs: all in all  it's \n"
     ]
    }
   ],
   "source": [
    "# Let's deal with the colons first and then convert the text to lower case\n",
    "# Remove ':' but not '(CHAR): ' and switch everything to lowecase\n",
    "pirates_txt = re.sub('(?<![A-Z]):|:(?!\\s)', ' ', pirates_txt)\n",
    "pirates_txt_lower = pirates_txt.lower()\n",
    "\n",
    "#First let's remove all the special characters from the text which if placed, cannot have any meaning in betwen text\n",
    "# After an exhaustive search I did not find an occurence of . in between alphabets. Ex: M.S.\n",
    "pirates_txt_01 = re.sub('[.!?*,#/]+', ' ', pirates_txt_lower)\n",
    "\n",
    "# Remove '-' but not '(char)-(char)'\n",
    "pirates_txt_01 = re.sub('(?<![a-z])-|-(?![a-z])', ' ', pirates_txt_01)\n",
    "\n",
    "# Remove ''' but not '(char)'(char)'\n",
    "pirates_txt_01 = re.sub('(?<![a-z])\\'|\\'(?![a-z])', ' ', pirates_txt_01)\n",
    "\n",
    "# Remove ':' but not '(CHAR): '\n",
    "\n",
    "print(pirates_txt_01[:2000])\n"
   ]
  },
  {
   "cell_type": "markdown",
   "metadata": {
    "id": "Jin_HWzK7MxI"
   },
   "source": [
    "## Problem Two:  Normalizing, Stemming, and Lemmatization\n",
    "\n",
    "In this problem we are going to do **some** normalizing of the words, first of all to\n",
    "normalize certain words with apostrophes, and then performing stemming and lemmatization.\n",
    "We are not intended to be absolutely thorough here, just to try a few obvious\n",
    "possibilities.\n",
    "\n",
    "### Part 2.A Normalizing \n",
    "\n",
    "There are several ways that apostophes (single quotes) are used to\n",
    "compress two words into one (to give a better sense for how they\n",
    "are pronounced, *especially by pirates*):\n",
    "\n",
    "        didn't  =  did not    we've  = we have       there'd  = there would\n",
    "        \n",
    "**Your task:  Find as many examples of these as you can, and replace the\n",
    "compressed word with the two-word phrase it represents.**\n",
    "\n",
    "\n",
    "Note: **Do NOT process any words with `'s`,** as these will be done in the next part.\n",
    "\n",
    "Do NOT simply compile a list of specific examples, but look for general patterns\n",
    "for substitution, for example:\n",
    "\n",
    "              n't =>  _not       've =>  _have       # where _ represents a blank  \n",
    "   \n",
    "\n",
    "Simply find as many examples which seem to\n",
    "have a general rule, and perform those substitutions, putting the result in\n",
    "`pirates_txt_02`.\n",
    "\n",
    "Finally, print out the first 2000 characters."
   ]
  },
  {
   "cell_type": "code",
   "execution_count": 127,
   "metadata": {
    "colab": {
     "base_uri": "https://localhost:8080/"
    },
    "id": "dTt_pn-t7MxI",
    "outputId": "57033c88-7876-46d1-86bb-f32410fc8453",
    "scrolled": false
   },
   "outputs": [
    {
     "name": "stdout",
     "output_type": "stream",
     "text": [
      "elizabeth swann: will \n",
      "elizabeth swann: why is this happening  \n",
      "will turner: i do not know  you look beautiful \n",
      "elizabeth swann: i think it's bad luck for the groom to see the bride before the wedding \n",
      "lord cutler beckett: governor weatherby swann  it's been too long \n",
      "lord cutler beckett: his lord now  actually \n",
      "lord cutler beckett: in fact  i  do  mister mercer  the warrant for the arrest of one william turner \n",
      "lord cutler beckett: oh  is it  that's annoying  my mistake  arrest her \n",
      "elizabeth swann: on what charges \n",
      "will turner: no \n",
      "lord cutler beckett: ah-ha  here's the one for william turner  and i have another one for a mister james norrington  is he present \n",
      "elizabeth swann:  what are the charges \n",
      "lord cutler beckett: i do not believe that's the answer to the question i asked \n",
      "will turner: lord beckett  in the category of questions  not  answered \n",
      "elizabeth swann: we are under the jurisdiction of the king's governor of port royal  and you will tell us what we are charged with  \n",
      "lord cutler beckett: for which the punishment  regrettably  is  also  death  perhaps you remember a certain pirate named jack sparrow \n",
      "elizabeth swann:  captain  jack sparrow \n",
      "lord cutler beckett: captain jack sparrow  yes  i thought you might \n",
      "gibbs: fifteen men on a dead man's chest  yo ho ho  and a  bottle  of rum  drink and the devil had done for the rest  yo ho ho  and a  bottle  of rum  ha-ha-ha-ha-ha  \n",
      "jack sparrow: sorry  mate \n",
      "jack sparrow: mind if we make a little side trip  i did not think so \n",
      "gibbs: not  quite  according to plan \n",
      "jack sparrow: complications arose  ensued  were overcome \n",
      "gibbs: you got what you went in for  then \n",
      "jack sparrow: mm-hmm \n",
      "gibbs: captain  i think the crew  meaning me as well  were expecting something a bit more   shiny  what with the isla de muerta going all pear shaped  reclaimed by the sea  and the treasure with it  \n",
      "leech: and the royal navy chasing us all around the atlantic  \n",
      "marty: and the hurricane  aye \n",
      "crew: aye  aye \n",
      "gibbs: all in all  it\n"
     ]
    }
   ],
   "source": [
    "pirates_txt_02 = re.sub(\"n't\", ' not', pirates_txt_01)\n",
    "pirates_txt_02 = re.sub(\"'ve\", ' have', pirates_txt_02)\n",
    "pirates_txt_02 = re.sub(\"'ll\", ' will', pirates_txt_02)\n",
    "pirates_txt_02 = re.sub(\"'re\", ' are', pirates_txt_02)\n",
    "pirates_txt_02 = re.sub(\"'m\", ' am', pirates_txt_02)\n",
    "pirates_txt_02 = re.sub(\"'d\", ' would', pirates_txt_02)\n",
    "pirates_txt_02 = re.sub(\"'n\", 'tain', pirates_txt_02)\n",
    "\n",
    "print(pirates_txt_02[:2000])"
   ]
  },
  {
   "cell_type": "markdown",
   "metadata": {
    "id": "cuVeJMQn7MxI"
   },
   "source": [
    "### Part 2.B  Stemming and Lemmatization \n",
    "\n",
    "#### Stemming\n",
    "\n",
    "There are multiple occurrence of the suffix `'s` in the text, some standing\n",
    "for a two word phrase:\n",
    "    \n",
    "       he's = he is       it's = it is       what's = what is     here's = here is\n",
    "       \n",
    "and some being possessives:\n",
    "\n",
    "       jack's     man's       hangman's\n",
    "       \n",
    "In the first case, the word `is` is very common, and would be removed later\n",
    "when we remove \"stop words\"; in the second, we will assume there is little\n",
    "difference in the BOW model between a noun and its possessive. So we will remove\n",
    "the `'s` from all words.\n",
    "\n",
    "#### Lemmatization\n",
    "\n",
    "There are eight \"official' different forms of the verb 'to be', all of which occur in the text. These must be replaced by the lemma 'be'. (These eight forms do not include modal expressions such as 'will be' or 'would be'.)\n",
    "\n",
    "**Your tasks:**  \n",
    "\n",
    "1. Stem these words by removing all instances of `'s`.  \n",
    "2. Lemmatize all the 8 forms of the verb 'to be' by replacing them by their stem 'be'. Be sure to ONLY replace separate words, not substrings of other words, i.e., don't change 'mistake' to 'mbetake'!\n",
    "3. Put the result in `pirates_txt_02` and print out the first 2000 characters."
   ]
  },
  {
   "cell_type": "code",
   "execution_count": 128,
   "metadata": {
    "colab": {
     "base_uri": "https://localhost:8080/"
    },
    "id": "PEKAuMeR7MxI",
    "outputId": "5c43180f-9f10-45f6-f81a-a3fe6f050a92",
    "scrolled": false
   },
   "outputs": [
    {
     "name": "stdout",
     "output_type": "stream",
     "text": [
      "elizabeth swann: will \n",
      "elizabeth swann: why be this happening  \n",
      "will turner: i do not know  you look beautiful \n",
      "elizabeth swann: i think it bad luck for the groom to see the bride before the wedding \n",
      "lord cutler beckett: governor weatherby swann  it be too long \n",
      "lord cutler beckett: his lord now  actually \n",
      "lord cutler beckett: in fact  i  do  mister mercer  the warrant for the arrest of one william turner \n",
      "lord cutler beckett: oh  be it  that annoying  my mistake  arrest her \n",
      "elizabeth swann: on what charges \n",
      "will turner: no \n",
      "lord cutler beckett: ah-ha  here the one for william turner  and i have another one for a mister james norrington  be he present \n",
      "elizabeth swann:  what be the charges \n",
      "lord cutler beckett: i do not believe that the answer to the question i asked \n",
      "will turner: lord beckett  in the category of questions  not  answered \n",
      "elizabeth swann: we be under the jurisdiction of the king governor of port royal  and you will tell us what we be charged with  \n",
      "lord cutler beckett: for which the punishment  regrettably  be  also  death  perhaps you remember a certain pirate named jack sparrow \n",
      "elizabeth swann:  captain  jack sparrow \n",
      "lord cutler beckett: captain jack sparrow  yes  i thought you might \n",
      "gibbs: fifteen men on a dead man chest  yo ho ho  and a  bottle  of rum  drink and the devil had done for the rest  yo ho ho  and a  bottle  of rum  ha-ha-ha-ha-ha  \n",
      "jack sparrow: sorry  mate \n",
      "jack sparrow: mind if we make a little side trip  i did not think so \n",
      "gibbs: not  quite  according to plan \n",
      "jack sparrow: complications arose  ensued  be overcome \n",
      "gibbs: you got what you went in for  then \n",
      "jack sparrow: mm-hmm \n",
      "gibbs: captain  i think the crew  meaning me as well  be expecting something a bit more   shiny  what with the isla de muerta going all pear shaped  reclaimed by the sea  and the treasure with it  \n",
      "leech: and the royal navy chasing us all around the atlantic  \n",
      "marty: and the hurricane  aye \n",
      "crew: aye  aye \n",
      "gibbs: all in all  it seems some time since \n"
     ]
    }
   ],
   "source": [
    "# be, am, is, are, was, were, being, been\n",
    "pirates_txt_02 = re.sub(\"'s\\s\", ' ', pirates_txt_02)\n",
    "pirates_txt_02 = re.sub(\"\\sam\\s|\\sis\\s|\\sare\\s|\\swas\\s|\\swere\\s|\\sbeing\\s|\\sbeen\\s\", ' be ', pirates_txt_02)\n",
    "\n",
    "\n",
    "print(pirates_txt_02[:2000])\n"
   ]
  },
  {
   "cell_type": "markdown",
   "metadata": {
    "id": "IjxeXOSq7MxI"
   },
   "source": [
    "## Problem Three:  Removing Stop Words, Tokenizing, and Creating the BOW Models\n"
   ]
  },
  {
   "cell_type": "markdown",
   "metadata": {
    "id": "n8z4l7YJ7MxI"
   },
   "source": [
    "### 3.A  Removing Stop Words \n",
    "\n",
    "\"Stop words\" are common words which do not give much information about a text, since they occur in almost all texts. There is a standard set of such words which can be\n",
    "accessed through NLTK (notice that these include some with apostrophes, which we\n",
    "will have already removed):"
   ]
  },
  {
   "cell_type": "code",
   "execution_count": 129,
   "metadata": {
    "colab": {
     "base_uri": "https://localhost:8080/"
    },
    "id": "ZujBXZ-n7MxJ",
    "outputId": "20281f12-e12d-41c1-d211-9ff9c681d637",
    "scrolled": true
   },
   "outputs": [
    {
     "name": "stdout",
     "output_type": "stream",
     "text": [
      "['i', 'me', 'my', 'myself', 'we', 'our', 'ours', 'ourselves', 'you', \"you're\", \"you've\", \"you'll\", \"you'd\", 'your', 'yours', 'yourself', 'yourselves', 'he', 'him', 'his', 'himself', 'she', \"she's\", 'her', 'hers', 'herself', 'it', \"it's\", 'its', 'itself', 'they', 'them', 'their', 'theirs', 'themselves', 'what', 'which', 'who', 'whom', 'this', 'that', \"that'll\", 'these', 'those', 'am', 'is', 'are', 'was', 'were', 'be', 'been', 'being', 'have', 'has', 'had', 'having', 'do', 'does', 'did', 'doing', 'a', 'an', 'the', 'and', 'but', 'if', 'or', 'because', 'as', 'until', 'while', 'of', 'at', 'by', 'for', 'with', 'about', 'against', 'between', 'into', 'through', 'during', 'before', 'after', 'above', 'below', 'to', 'from', 'up', 'down', 'in', 'out', 'on', 'off', 'over', 'under', 'again', 'further', 'then', 'once', 'here', 'there', 'when', 'where', 'why', 'how', 'all', 'any', 'both', 'each', 'few', 'more', 'most', 'other', 'some', 'such', 'no', 'nor', 'not', 'only', 'own', 'same', 'so', 'than', 'too', 'very', 's', 't', 'can', 'will', 'just', 'don', \"don't\", 'should', \"should've\", 'now', 'd', 'll', 'm', 'o', 're', 've', 'y', 'ain', 'aren', \"aren't\", 'couldn', \"couldn't\", 'didn', \"didn't\", 'doesn', \"doesn't\", 'hadn', \"hadn't\", 'hasn', \"hasn't\", 'haven', \"haven't\", 'isn', \"isn't\", 'ma', 'mightn', \"mightn't\", 'mustn', \"mustn't\", 'needn', \"needn't\", 'shan', \"shan't\", 'shouldn', \"shouldn't\", 'wasn', \"wasn't\", 'weren', \"weren't\", 'won', \"won't\", 'wouldn', \"wouldn't\"]\n"
     ]
    },
    {
     "name": "stderr",
     "output_type": "stream",
     "text": [
      "[nltk_data] Downloading package stopwords to /root/nltk_data...\n",
      "[nltk_data]   Package stopwords is already up-to-date!\n"
     ]
    }
   ],
   "source": [
    "import nltk\n",
    "from nltk.corpus import stopwords\n",
    "\n",
    "nltk.download('stopwords')\n",
    "print(stopwords.words('english'))"
   ]
  },
  {
   "cell_type": "markdown",
   "metadata": {
    "id": "iKxnR4ED7MxJ"
   },
   "source": [
    "For the first part of this problem, you must **remove all stop words from the\n",
    "text,** and store the result in `pirates_txt_03`. However, since `will` is the name\n",
    "of a character in the script, **do NOT remove the stopword `will`**! Make SURE that you\n",
    "only remove words, and not substrings of larger words, e.g., do not remove\n",
    "all occurrences of the character `i` from the text just because the word `i`\n",
    "is a stop word! Replace stop words with single blanks to preserve the\n",
    "word boundaries.\n",
    "\n",
    "Put your code in the next cell and print out the first 2000 characters."
   ]
  },
  {
   "cell_type": "code",
   "execution_count": 131,
   "metadata": {
    "colab": {
     "base_uri": "https://localhost:8080/"
    },
    "id": "R6-tzSDQ7MxJ",
    "outputId": "d80f088f-bbd9-4139-c608-872671e583e4",
    "scrolled": false
   },
   "outputs": [
    {
     "name": "stdout",
     "output_type": "stream",
     "text": [
      "elizabeth swann: will \n",
      "elizabeth swann: happening  \n",
      "will turner: know look beautiful \n",
      "elizabeth swann: think bad luck groom see bride wedding \n",
      "lord cutler beckett: governor weatherby swann long \n",
      "lord cutler beckett: lord  actually \n",
      "lord cutler beckett: fact  mister mercer warrant arrest one william turner \n",
      "lord cutler beckett: oh annoying mistake  arrest \n",
      "elizabeth swann: charges \n",
      "will turner: \n",
      "lord cutler beckett: ah-ha one william turner another one mister james norrington present \n",
      "elizabeth swann: charges \n",
      "lord cutler beckett: believe answer question asked \n",
      "will turner: lord beckett category questions  answered \n",
      "elizabeth swann: jurisdiction king governor port royal will tell us charged  \n",
      "lord cutler beckett: punishment  regrettably  also  death  perhaps remember certain pirate named jack sparrow \n",
      "elizabeth swann:  captain  jack sparrow \n",
      "lord cutler beckett: captain jack sparrow  yes thought might \n",
      "gibbs: fifteen men dead man chest  yo ho ho  bottle rum  drink devil done rest  yo ho ho  bottle rum  ha-ha-ha-ha-ha  \n",
      "jack sparrow: sorry  mate \n",
      "jack sparrow: mind make little side trip think \n",
      "gibbs:  quite  according plan \n",
      "jack sparrow: complications arose  ensued overcome \n",
      "gibbs: got went \n",
      "jack sparrow: mm-hmm \n",
      "gibbs: captain think crew  meaning well expecting something bit   shiny isla de muerta going pear shaped  reclaimed sea treasure  \n",
      "leech: royal navy chasing us around atlantic  \n",
      "marty: hurricane  aye \n",
      "crew: aye  aye \n",
      "gibbs: all seems time since speck honest pirating \n",
      "jack sparrow: shiny \n",
      "gibbs: aye  shiny \n",
      "jack sparrow: feeling  perhaps dear old jack serving best interests captain \n",
      "cotton parrot: awk  walk plank  \n",
      "jack sparrow: bird say \n",
      "leech: blame bird  show us piece cloth  \n",
      "jack sparrow: ohhh \n",
      "gibbs: know good  \n",
      "jack sparrow: \n",
      "marty: key \n",
      "jack sparrow:  much better  drawing key  \n",
      "jack sparrow: gentlemen keys \n",
      "leech: keys  unlock   things  \n",
      "gibbs: whatever key unlocks   inside something valuable setting find whatever key unlocks \n",
      "jack sparrow: key ca open \n"
     ]
    }
   ],
   "source": [
    "words = stopwords.words('english')\n",
    "words.remove('will')\n",
    "\n",
    "pirates_txt_03 = pirates_txt_02\n",
    "for word in words:\n",
    "  pirates_txt_03 = re.sub(f'\\s+{word}\\s', ' ', pirates_txt_03)\n",
    "\n",
    "print(pirates_txt_03[:2000])\n"
   ]
  },
  {
   "cell_type": "markdown",
   "metadata": {
    "id": "ka2jPKBh7MxJ"
   },
   "source": [
    "### 3.B  Tokenizing and Creating the BOW Dictionary \n",
    "\n",
    "What we wish to do is to create a BOW model with a dictionary for two characters\n",
    "in the script, `elizabeth swann` and `jack sparrow`.\n",
    "\n",
    "\n",
    "### Part 3.B.1 \n",
    "\n",
    "Using `split(...)`, split the text on the newlines `\\n`\n",
    "to get a list of each line as a string. Print out the first 10 lines.\n"
   ]
  },
  {
   "cell_type": "code",
   "execution_count": 132,
   "metadata": {
    "colab": {
     "base_uri": "https://localhost:8080/"
    },
    "id": "47Wdq0D17MxJ",
    "outputId": "46269489-dfc5-4b55-f414-fcf6c7dcb8fe",
    "scrolled": false
   },
   "outputs": [
    {
     "name": "stdout",
     "output_type": "stream",
     "text": [
      "elizabeth swann: will \n",
      "elizabeth swann: happening  \n",
      "will turner: know look beautiful \n",
      "elizabeth swann: think bad luck groom see bride wedding \n",
      "lord cutler beckett: governor weatherby swann long \n",
      "lord cutler beckett: lord  actually \n",
      "lord cutler beckett: fact  mister mercer warrant arrest one william turner \n",
      "lord cutler beckett: oh annoying mistake  arrest \n",
      "elizabeth swann: charges \n",
      "will turner: \n"
     ]
    }
   ],
   "source": [
    "lines = re.split('\\n', pirates_txt_03)\n",
    "for i in range(10):\n",
    "  print(lines[i])"
   ]
  },
  {
   "cell_type": "markdown",
   "metadata": {
    "id": "qezVBoCt7MxJ"
   },
   "source": [
    "### Part 3.B.2 \n",
    "\n",
    "Create a dictionary to hold the BOW models for these two characters,\n",
    "each being a `defaultdict` with a default value of 0 (this is a representation of the sparce matrix representing the BOW for the character).\n",
    "\n",
    "Then go through the lines and calculate\n",
    "the frequency of each word spoken by that character. Print out the 20 most common\n",
    "words spoken by each character and the number of times spoken.  \n",
    "\n",
    "Hint: Scan through the lines created in 3.B.1, and just check if the line contains\n",
    "that character's name. Hint: you can use `in` to check if a substring occurs in\n",
    "a string.\n",
    "\n",
    "       'wayne snyder:' in 'wayne snyder: hi there folks!'   =>  True\n",
    "       \n",
    "**In order to make sure you are not finding an instance of the character's name as spoken\n",
    "by another character, be sure to include the colon (that's why we left it there!).**\n",
    "       \n",
    "Then split the line on blanks, and add all but the first two words (the name\n",
    "of the character) to the BOW for that character. If the empty word '' occurs,\n",
    "ignore it (do not add it to the BOW).\n"
   ]
  },
  {
   "cell_type": "code",
   "execution_count": 133,
   "metadata": {
    "id": "OYAj3No2RJSs"
   },
   "outputs": [],
   "source": [
    "from collections import defaultdict\n",
    "\n",
    "def default_val():\n",
    "  return 0\n",
    "\n",
    "Elizabeth = defaultdict(default_val)\n",
    "Jack = defaultdict(default_val)"
   ]
  },
  {
   "cell_type": "code",
   "execution_count": 134,
   "metadata": {
    "colab": {
     "base_uri": "https://localhost:8080/"
    },
    "id": "7hrMdFYW7MxJ",
    "outputId": "bb4a2487-a738-419a-b830-8ec9b950e7a7",
    "scrolled": false
   },
   "outputs": [
    {
     "name": "stdout",
     "output_type": "stream",
     "text": [
      "20 most common words spoken by Elizabeth:\n",
      "will: 22\n",
      "jack: 12\n",
      "find: 7\n",
      "know: 7\n",
      "oh: 7\n",
      "want: 6\n",
      "man: 6\n",
      "good: 5\n",
      "something: 5\n",
      "sparrow: 4\n",
      "would: 4\n",
      "chance: 4\n",
      "us: 3\n",
      "captain: 3\n",
      "compass: 3\n",
      "give: 3\n",
      "going: 3\n",
      "came: 3\n",
      "way: 3\n",
      "yes: 3\n"
     ]
    }
   ],
   "source": [
    "# Elizabeth Swann's BOW (9 pts)\n",
    "for line in lines:\n",
    "  if 'elizabeth swann:' in line:\n",
    "    cur_line = line.split()\n",
    "    for word in cur_line[2:]:\n",
    "      if word != '':\n",
    "        Elizabeth[word] +=1\n",
    "print(\"20 most common words spoken by Elizabeth:\")\n",
    "for w, f in sorted(Elizabeth.items(), key=lambda x: x[1], reverse=True)[:20]:\n",
    "    print(f\"{w}: {f}\")"
   ]
  },
  {
   "cell_type": "code",
   "execution_count": 135,
   "metadata": {
    "colab": {
     "base_uri": "https://localhost:8080/"
    },
    "id": "8veHZIv-7MxJ",
    "outputId": "fe260b9a-729c-40c6-8f6b-7c649198fa99",
    "scrolled": false
   },
   "outputs": [
    {
     "name": "stdout",
     "output_type": "stream",
     "text": [
      "20 most common words spoken by Jack:\n",
      "want: 15\n",
      "come: 11\n",
      "know: 9\n",
      "oh: 9\n",
      "will: 9\n",
      "bugger: 8\n",
      "dirt: 8\n",
      "love: 8\n",
      "hey: 7\n",
      "jones: 7\n",
      "one: 7\n",
      "mate: 6\n",
      "captain: 6\n",
      "key: 6\n",
      "would: 6\n",
      "oy: 6\n",
      "save: 6\n",
      "jar: 6\n",
      "chest: 6\n",
      "much: 5\n"
     ]
    }
   ],
   "source": [
    "# Jack Sparrows's BOW   (9 pts)\n",
    "for line in lines:\n",
    "  if 'jack sparrow:' in line:\n",
    "    cur_line = line.split()\n",
    "    for word in cur_line[2:]:\n",
    "      if word != '':\n",
    "        Jack[word] +=1\n",
    "print(\"20 most common words spoken by Jack:\")\n",
    "for w,f  in sorted(Jack.items(), key=lambda x: x[1], reverse=True)[:20]:\n",
    "    print(f\"{w}: {f}\")\n",
    "# Your code here"
   ]
  }
 ],
 "metadata": {
  "colab": {
   "provenance": []
  },
  "kernelspec": {
   "display_name": "Python 3 (ipykernel)",
   "language": "python",
   "name": "python3"
  },
  "language_info": {
   "codemirror_mode": {
    "name": "ipython",
    "version": 3
   },
   "file_extension": ".py",
   "mimetype": "text/x-python",
   "name": "python",
   "nbconvert_exporter": "python",
   "pygments_lexer": "ipython3",
   "version": "3.10.9"
  }
 },
 "nbformat": 4,
 "nbformat_minor": 1
}
